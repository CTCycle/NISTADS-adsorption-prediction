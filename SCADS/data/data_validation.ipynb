{
 "cells": [
  {
   "cell_type": "markdown",
   "metadata": {},
   "source": [
    "# Imports and paths"
   ]
  },
  {
   "cell_type": "code",
   "execution_count": null,
   "metadata": {},
   "outputs": [],
   "source": [
    "import os\n",
    "import sys\n",
    "import pandas as pd\n",
    "\n",
    "# set warnings\n",
    "import warnings\n",
    "warnings.simplefilter(action='ignore', category = Warning)\n",
    "\n",
    "# import modules and classes\n",
    "from SCADS.commons.utils.preprocessing import PreProcessing\n",
    "from SCADS.commons.utils.validation import DataValidation\n",
    "from SCADS.commons.pathfinder import DATA_PATH, VALIDATION_PATH\n",
    "import SCADS.commons.configurations as cnf"
   ]
  },
  {
   "cell_type": "markdown",
   "metadata": {},
   "source": [
    "## Load data"
   ]
  },
  {
   "cell_type": "code",
   "execution_count": null,
   "metadata": {},
   "outputs": [],
   "source": [
    "preprocessor = PreProcessing()\n",
    "\n",
    "# load data from .csv files\n",
    "file_loc = os.path.join(DATA_PATH, 'SCADS_dataset.csv') \n",
    "dataset = pd.read_csv(file_loc, sep=';', encoding = 'utf-8')\n",
    "file_loc = os.path.join(DATA_PATH, 'adsorbates_dataset.csv') \n",
    "df_adsorbates = pd.read_csv(file_loc, sep=';', encoding = 'utf-8')\n",
    "file_loc = os.path.join(DATA_PATH, 'adsorbents_dataset.csv') \n",
    "df_adsorbents = pd.read_csv(file_loc, sep=';', encoding = 'utf-8')"
   ]
  },
  {
   "cell_type": "markdown",
   "metadata": {},
   "source": [
    "# Preprocessing"
   ]
  },
  {
   "cell_type": "markdown",
   "metadata": {},
   "source": [
    "# 1. Data validation"
   ]
  },
  {
   "cell_type": "markdown",
   "metadata": {},
   "source": [
    "## 1.1 General validation"
   ]
  },
  {
   "cell_type": "code",
   "execution_count": null,
   "metadata": {},
   "outputs": [],
   "source": [
    "plot_properties = {'figsize': (10, 8),  \n",
    "                   'fontsize_title': 16,  \n",
    "                   'fontsize_labels': 12,  \n",
    "                   'fontsize_ticks': 10,  \n",
    "                   'xlabel': 'Feature', \n",
    "                   'ylabel': 'Value',\n",
    "                   'orientation' : 'h',  \n",
    "                   'xticks_rotation': 45,  \n",
    "                   'xticks_ha': 'right',  \n",
    "                   'xticks_va': 'center', \n",
    "                   'title': 'None',  \n",
    "                   'palette': 'viridis',\n",
    "                   'color' : 'skyblue',  \n",
    "                   'grid': True,                   \n",
    "                   'legend': True,  \n",
    "                   'legend_loc': 'best'}  \n",
    "\n",
    "# print report with statistics and info about the non-grouped dataset\n",
    "print(f'\\nNumber of adsorption measurements: {len(dataset[\"pressure_in_Pascal\"].explode())}')\n",
    "print(f'Number of unique experiments:        {dataset.shape[0]}')\n",
    "print(f'Number of dataset features:          {dataset.shape[1]}')\n",
    "print(f'Average measurements per experiment: {dataset.shape[0]//len(dataset[\"pressure_in_Pascal\"].explode())}')\n",
    "\n",
    "# perform prelimiary analysis on the grouped, unsplit dataset\n",
    "# check columns with null values\n",
    "validator = DataValidation()\n",
    "print('\\nChecking for missing values in the dataset:\\n')\n",
    "missing_values = validator.check_missing_values(dataset)  \n",
    "\n",
    "# generate histograms of the grouped dataset features\n",
    "validator.plot_histograms(dataset, VALIDATION_PATH, plot_properties, exclude=['pressure_in_Pascal', 'uptake_in_mol_g'])\n",
    "\n",
    "# generate histograms of the pressure and uptakes\n",
    "validator.plot_histograms(dataset, VALIDATION_PATH, plot_properties, exclude=['pressure_in_Pascal', 'uptake_in_mol_g'])"
   ]
  },
  {
   "cell_type": "markdown",
   "metadata": {},
   "source": [
    "## 1.2 Validation of dataset split"
   ]
  },
  {
   "cell_type": "code",
   "execution_count": null,
   "metadata": {},
   "outputs": [],
   "source": [
    "# validate splitting based on random seed\n",
    "print('\\nValidation best random seed for data splitting\\n')\n",
    "min_diff, best_seed, best_split = validator.data_split_validation(dataset, cnf.test_size, 500)\n",
    "print(f'''\\nBest split found with split_seed of {best_seed}, with total difference equal to {round(min_diff, 3)}\n",
    "Mean and standard deviation differences per features (X and Y):''')\n",
    "for key, val in best_split.items():\n",
    "    print(f'{key} ---> mean difference = {val[0]}, STD difference = {val[1]}')"
   ]
  }
 ],
 "metadata": {
  "kernelspec": {
   "display_name": "Aquarius",
   "language": "python",
   "name": "python3"
  },
  "language_info": {
   "codemirror_mode": {
    "name": "ipython",
    "version": 3
   },
   "file_extension": ".py",
   "mimetype": "text/x-python",
   "name": "python",
   "nbconvert_exporter": "python",
   "pygments_lexer": "ipython3",
   "version": "3.10.13"
  }
 },
 "nbformat": 4,
 "nbformat_minor": 2
}
