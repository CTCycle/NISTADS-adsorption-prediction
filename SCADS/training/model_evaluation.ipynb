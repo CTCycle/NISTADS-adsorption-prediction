{
 "cells": [
  {
   "cell_type": "code",
   "execution_count": 1,
   "metadata": {},
   "outputs": [],
   "source": [
    "import os\n",
    "import sys\n",
    "import numpy as np\n",
    "import pandas as pd\n",
    "import pickle\n",
    "\n",
    "# set warnings\n",
    "import warnings\n",
    "warnings.simplefilter(action='ignore', category = Warning)\n",
    "\n",
    "# add parent folder path to the namespace\n",
    "sys.path.append(os.path.dirname(os.getcwd()))\n",
    "\n",
    "# import modules and components\n",
    "from utils.preprocessing import PreProcessing\n",
    "from utils.inference import Inference\n",
    "from utils.validation import ModelValidation\n",
    "import utils.global_paths as globpt\n",
    "import configurations as cnf\n",
    "\n",
    "# specify relative paths from global paths and create subfolders\n",
    "cp_path = os.path.join(globpt.train_path, 'checkpoints')\n",
    "os.mkdir(cp_path) if not os.path.exists(cp_path) else None"
   ]
  },
  {
   "cell_type": "markdown",
   "metadata": {},
   "source": [
    "# Load data and model"
   ]
  },
  {
   "cell_type": "code",
   "execution_count": 3,
   "metadata": {},
   "outputs": [
    {
     "name": "stdout",
     "output_type": "stream",
     "text": [
      "WARNING:tensorflow:Unable to restore custom metric. Please ensure that the layer implements `get_config` and `from_config` when saving. In addition, please use the `custom_objects` arg when calling `load_model()`.\n",
      "Model: \"SCADS\"\n",
      "__________________________________________________________________________________________________\n",
      " Layer (type)                   Output Shape         Param #     Connected to                     \n",
      "==================================================================================================\n",
      " input_1 (InputLayer)           [(None, 7)]          0           []                               \n",
      "                                                                                                  \n",
      " input_2 (InputLayer)           [(None, 1)]          0           []                               \n",
      "                                                                                                  \n",
      " input_3 (InputLayer)           [(None, 1)]          0           []                               \n",
      "                                                                                                  \n",
      " input_4 (InputLayer)           [(None, 40)]         0           []                               \n",
      "                                                                                                  \n",
      " parametrizer (CustomLayers>Par  (None, 512)         550256      ['input_1[0][0]']                \n",
      " ametrizer)                                                                                       \n",
      "                                                                                                  \n",
      " gh_encoder (Encoders>GHEncoder  (None, 512)         1600368     ['input_2[0][0]',                \n",
      " )                                                                'input_3[0][0]']                \n",
      "                                                                                                  \n",
      " pressure_encoder (Encoders>Pre  (None, 512)         862640      ['input_4[0][0]']                \n",
      " ssureEncoder)                                                                                    \n",
      "                                                                                                  \n",
      " q_decoder (Decoder>QDecoder)   (None, 40)           3072296     ['parametrizer[0][0]',           \n",
      "                                                                  'gh_encoder[0][0]',             \n",
      "                                                                  'pressure_encoder[0][0]']       \n",
      "                                                                                                  \n",
      "==================================================================================================\n",
      "Total params: 6,085,560\n",
      "Trainable params: 6,075,832\n",
      "Non-trainable params: 9,728\n",
      "__________________________________________________________________________________________________\n"
     ]
    },
    {
     "ename": "ValueError",
     "evalue": "cannot reshape array of size 1 into shape (40,)",
     "output_type": "error",
     "traceback": [
      "\u001b[1;31m---------------------------------------------------------------------------\u001b[0m",
      "\u001b[1;31mValueError\u001b[0m                                Traceback (most recent call last)",
      "Cell \u001b[1;32mIn[3], line 26\u001b[0m\n\u001b[0;32m     23\u001b[0m \u001b[38;5;66;03m# generate tf.datasets\u001b[39;00m\n\u001b[0;32m     24\u001b[0m \u001b[38;5;66;03m#------------------------------------------------------------------------------ \u001b[39;00m\n\u001b[0;32m     25\u001b[0m preprocessor \u001b[38;5;241m=\u001b[39m PreProcessing()\n\u001b[1;32m---> 26\u001b[0m train_dataset, test_dataset \u001b[38;5;241m=\u001b[39m \u001b[43mpreprocessor\u001b[49m\u001b[38;5;241;43m.\u001b[39;49m\u001b[43mcreate_tf_dataset\u001b[49m\u001b[43m(\u001b[49m\u001b[43mtrain_X\u001b[49m\u001b[43m,\u001b[49m\u001b[43m \u001b[49m\u001b[43mtest_X\u001b[49m\u001b[43m,\u001b[49m\n\u001b[0;32m     27\u001b[0m \u001b[43m                                                             \u001b[49m\u001b[43mtrain_Y\u001b[49m\u001b[43m,\u001b[49m\u001b[43m \u001b[49m\u001b[43mtest_Y\u001b[49m\u001b[43m,\u001b[49m\n\u001b[0;32m     28\u001b[0m \u001b[43m                                                             \u001b[49m\u001b[43mparameters\u001b[49m\u001b[43m[\u001b[49m\u001b[38;5;124;43m'\u001b[39;49m\u001b[38;5;124;43msequence_length\u001b[39;49m\u001b[38;5;124;43m'\u001b[39;49m\u001b[43m]\u001b[49m\u001b[43m,\u001b[49m\n\u001b[0;32m     29\u001b[0m \u001b[43m                                                             \u001b[49m\u001b[43mcnf\u001b[49m\u001b[38;5;241;43m.\u001b[39;49m\u001b[43mbatch_size\u001b[49m\u001b[43m)\u001b[49m\n\u001b[0;32m     31\u001b[0m \u001b[38;5;66;03m# load encoders and normalizers\u001b[39;00m\n\u001b[0;32m     32\u001b[0m filepath \u001b[38;5;241m=\u001b[39m os\u001b[38;5;241m.\u001b[39mpath\u001b[38;5;241m.\u001b[39mjoin(pp_path, \u001b[38;5;124m'\u001b[39m\u001b[38;5;124mpressure_normalizer.pkl\u001b[39m\u001b[38;5;124m'\u001b[39m)\n",
      "File \u001b[1;32mc:\\Users\\Thomas V\\Libreria personale\\AI project 280324\\Projects\\Modeling\\NISTADS modeling\\utils\\preprocessing.py:149\u001b[0m, in \u001b[0;36mPreProcessing.create_tf_dataset\u001b[1;34m(self, X_train, X_test, Y_train, Y_test, pad_length, batch_size, buffer_size)\u001b[0m\n\u001b[0;32m    147\u001b[0m tf_guests \u001b[38;5;241m=\u001b[39m tf\u001b[38;5;241m.\u001b[39mdata\u001b[38;5;241m.\u001b[39mDataset\u001b[38;5;241m.\u001b[39mfrom_tensor_slices(guests)\n\u001b[0;32m    148\u001b[0m tf_hosts \u001b[38;5;241m=\u001b[39m tf\u001b[38;5;241m.\u001b[39mdata\u001b[38;5;241m.\u001b[39mDataset\u001b[38;5;241m.\u001b[39mfrom_tensor_slices(hosts)\n\u001b[1;32m--> 149\u001b[0m tf_pressures \u001b[38;5;241m=\u001b[39m tf\u001b[38;5;241m.\u001b[39mdata\u001b[38;5;241m.\u001b[39mDataset\u001b[38;5;241m.\u001b[39mfrom_tensor_slices([np\u001b[38;5;241m.\u001b[39marray(x)\u001b[38;5;241m.\u001b[39mreshape(pad_length) \u001b[38;5;28;01mfor\u001b[39;00m x \u001b[38;5;129;01min\u001b[39;00m pressures])         \n\u001b[0;32m    150\u001b[0m tf_uptakes \u001b[38;5;241m=\u001b[39m tf\u001b[38;5;241m.\u001b[39mdata\u001b[38;5;241m.\u001b[39mDataset\u001b[38;5;241m.\u001b[39mfrom_tensor_slices([np\u001b[38;5;241m.\u001b[39marray(x)\u001b[38;5;241m.\u001b[39mreshape(pad_length) \u001b[38;5;28;01mfor\u001b[39;00m x \u001b[38;5;129;01min\u001b[39;00m uptakes])  \n\u001b[0;32m    151\u001b[0m \u001b[38;5;66;03m# create merged tf.dataset\u001b[39;00m\n",
      "File \u001b[1;32mc:\\Users\\Thomas V\\Libreria personale\\AI project 280324\\Projects\\Modeling\\NISTADS modeling\\utils\\preprocessing.py:149\u001b[0m, in \u001b[0;36m<listcomp>\u001b[1;34m(.0)\u001b[0m\n\u001b[0;32m    147\u001b[0m tf_guests \u001b[38;5;241m=\u001b[39m tf\u001b[38;5;241m.\u001b[39mdata\u001b[38;5;241m.\u001b[39mDataset\u001b[38;5;241m.\u001b[39mfrom_tensor_slices(guests)\n\u001b[0;32m    148\u001b[0m tf_hosts \u001b[38;5;241m=\u001b[39m tf\u001b[38;5;241m.\u001b[39mdata\u001b[38;5;241m.\u001b[39mDataset\u001b[38;5;241m.\u001b[39mfrom_tensor_slices(hosts)\n\u001b[1;32m--> 149\u001b[0m tf_pressures \u001b[38;5;241m=\u001b[39m tf\u001b[38;5;241m.\u001b[39mdata\u001b[38;5;241m.\u001b[39mDataset\u001b[38;5;241m.\u001b[39mfrom_tensor_slices([\u001b[43mnp\u001b[49m\u001b[38;5;241;43m.\u001b[39;49m\u001b[43marray\u001b[49m\u001b[43m(\u001b[49m\u001b[43mx\u001b[49m\u001b[43m)\u001b[49m\u001b[38;5;241;43m.\u001b[39;49m\u001b[43mreshape\u001b[49m\u001b[43m(\u001b[49m\u001b[43mpad_length\u001b[49m\u001b[43m)\u001b[49m \u001b[38;5;28;01mfor\u001b[39;00m x \u001b[38;5;129;01min\u001b[39;00m pressures])         \n\u001b[0;32m    150\u001b[0m tf_uptakes \u001b[38;5;241m=\u001b[39m tf\u001b[38;5;241m.\u001b[39mdata\u001b[38;5;241m.\u001b[39mDataset\u001b[38;5;241m.\u001b[39mfrom_tensor_slices([np\u001b[38;5;241m.\u001b[39marray(x)\u001b[38;5;241m.\u001b[39mreshape(pad_length) \u001b[38;5;28;01mfor\u001b[39;00m x \u001b[38;5;129;01min\u001b[39;00m uptakes])  \n\u001b[0;32m    151\u001b[0m \u001b[38;5;66;03m# create merged tf.dataset\u001b[39;00m\n",
      "\u001b[1;31mValueError\u001b[0m: cannot reshape array of size 1 into shape (40,)"
     ]
    }
   ],
   "source": [
    "# load the model for inference and print summary\n",
    "inference = Inference(cnf.seed) \n",
    "model, parameters = inference.load_pretrained_model(cp_path)\n",
    "model_path = inference.folder_path\n",
    "model.summary(expand_nested=True)\n",
    "\n",
    "# load preprocessed data\n",
    "pp_path = os.path.join(model_path, 'preprocessing')\n",
    "\n",
    "# define preprocessed data path\n",
    "preprocessing_path = os.path.join(model_path, 'preprocessing')\n",
    "\n",
    "# load preprocessed csv files (train and test datasets)\n",
    "file_loc = os.path.join(preprocessing_path, 'X_train.csv') \n",
    "train_X = pd.read_csv(file_loc, encoding = 'utf-8', sep=';', low_memory=False)\n",
    "file_loc = os.path.join(preprocessing_path, 'X_test.csv') \n",
    "test_X = pd.read_csv(file_loc, encoding = 'utf-8', sep=';', low_memory=False)\n",
    "file_loc = os.path.join(preprocessing_path, 'Y_train.csv') \n",
    "train_Y = pd.read_csv(file_loc, encoding = 'utf-8', sep=';', low_memory=False)\n",
    "file_loc = os.path.join(preprocessing_path, 'Y_test.csv') \n",
    "test_Y = pd.read_csv(file_loc, encoding = 'utf-8', sep=';', low_memory=False)\n",
    "\n",
    "# split sequences into items (from string)\n",
    "#------------------------------------------------------------------------------ \n",
    "train_X[''] = train_X[]\n",
    "\n",
    "\n",
    "# generate tf.datasets\n",
    "#------------------------------------------------------------------------------ \n",
    "preprocessor = PreProcessing()\n",
    "train_dataset, test_dataset = preprocessor.create_tf_dataset(train_X, test_X,\n",
    "                                                             train_Y, test_Y,\n",
    "                                                             parameters['sequence_length'],\n",
    "                                                             cnf.batch_size)\n",
    "\n",
    "# load encoders and normalizers\n",
    "filepath = os.path.join(pp_path, 'pressure_normalizer.pkl')\n",
    "with open(filepath, 'rb') as file:\n",
    "    press_normalizer = pickle.load(file)\n",
    "filepath = os.path.join(pp_path, 'uptake_normalizer.pkl')\n",
    "with open(filepath, 'rb') as file:\n",
    "    uptake_normalizer = pickle.load(file)"
   ]
  },
  {
   "cell_type": "markdown",
   "metadata": {},
   "source": [
    "# Model evaluation"
   ]
  },
  {
   "cell_type": "markdown",
   "metadata": {},
   "source": [
    "### Evaluation of loss and metrics"
   ]
  },
  {
   "cell_type": "code",
   "execution_count": null,
   "metadata": {},
   "outputs": [],
   "source": [
    "# initialize custom classes\n",
    "validator = ModelValidation(model)\n",
    "\n",
    "# create subfolder for evaluation data\n",
    "eval_path = os.path.join(model_path, 'evaluation') \n",
    "os.mkdir(eval_path) if not os.path.exists(eval_path) else None\n",
    "\n",
    "# evaluate model performance on train and test datasets\n",
    "train_eval = model.evaluate(x=train_inputs, y=train_uptakes, batch_size=512, verbose=1)\n",
    "test_eval = model.evaluate(x=test_inputs, y=test_uptakes, batch_size=512, verbose=1)\n",
    "\n",
    "print(f'''\n",
    "-------------------------------------------------------------------------------\n",
    "MODEL EVALUATION\n",
    "-------------------------------------------------------------------------------    \n",
    "Train dataset:\n",
    "- Loss:   {train_eval[0]}\n",
    "- Metric: {train_eval[1]} \n",
    "\n",
    "Test dataset:\n",
    "- Loss:   {test_eval[0]}\n",
    "- Metric: {test_eval[1]}        \n",
    "''')"
   ]
  },
  {
   "cell_type": "markdown",
   "metadata": {},
   "source": [
    "### Visual inspection"
   ]
  },
  {
   "cell_type": "code",
   "execution_count": null,
   "metadata": {},
   "outputs": [],
   "source": [
    "# predict adsorption from train and test datasets input\n",
    "train_predictions = model.predict(train_inputs)\n",
    "test_predictions = model.predict(test_inputs)\n",
    "\n",
    "# remove padding and normalization from the original train and test pressure series,\n",
    "# as well from the original train and test uptake series and the predicted values\n",
    "rec_train_P, rec_train_Q, pred_train_Q = inference.sequence_recovery(train_pressures,                                                                     \n",
    "                                                                     train_uptakes,\n",
    "                                                                     train_predictions,\n",
    "                                                                     parameters['padding_value'],\n",
    "                                                                     press_normalizer,\n",
    "                                                                     uptake_normalizer)  \n",
    "\n",
    "rec_test_P, rec_test_Q, pred_test_Q = inference.sequence_recovery(test_pressures,\n",
    "                                                                  test_uptakes,\n",
    "                                                                  test_predictions,                                                                  \n",
    "                                                                  parameters['padding_value'],\n",
    "                                                                  press_normalizer,\n",
    "                                                                  uptake_normalizer)  \n",
    "\n",
    "# perform visual validation by comparing true and predicted isotherms on both \n",
    "# the train and test datasets\n",
    "validator.visualize_predictions(rec_train_P, rec_train_Q, pred_train_Q, 'train', eval_path)\n",
    "validator.visualize_predictions(rec_test_P, rec_test_Q, pred_test_Q, 'test', eval_path)\n"
   ]
  }
 ],
 "metadata": {
  "kernelspec": {
   "display_name": "Aquarius",
   "language": "python",
   "name": "python3"
  },
  "language_info": {
   "codemirror_mode": {
    "name": "ipython",
    "version": 3
   },
   "file_extension": ".py",
   "mimetype": "text/x-python",
   "name": "python",
   "nbconvert_exporter": "python",
   "pygments_lexer": "ipython3",
   "version": "3.10.13"
  }
 },
 "nbformat": 4,
 "nbformat_minor": 2
}
