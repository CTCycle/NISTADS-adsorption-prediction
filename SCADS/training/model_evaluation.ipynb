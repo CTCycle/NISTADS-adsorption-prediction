{
 "cells": [
  {
   "cell_type": "code",
   "execution_count": null,
   "metadata": {},
   "outputs": [],
   "source": [
    "import os\n",
    "import sys\n",
    "import numpy as np\n",
    "import pandas as pd\n",
    "import pickle\n",
    "\n",
    "# set warnings\n",
    "import warnings\n",
    "warnings.simplefilter(action='ignore', category = Warning)\n",
    "\n",
    "# import modules and components\n",
    "from SCADS.commons.utils.preprocessing import PreProcessing\n",
    "from SCADS.commons.utils.inference import Inference\n",
    "from SCADS.commons.utils.validation import ModelValidation\n",
    "from SCADS.commons.pathfinder import DATA_PATH, VALIDATION_PATH, CHECKPOINT_PATH\n",
    "import SCADS.commons.configurations as cnf"
   ]
  },
  {
   "cell_type": "markdown",
   "metadata": {},
   "source": [
    "# Load data and model"
   ]
  },
  {
   "cell_type": "code",
   "execution_count": null,
   "metadata": {},
   "outputs": [],
   "source": [
    "# load the model for inference and print summary\n",
    "inference = Inference(cnf.SEED) \n",
    "model, parameters = inference.load_pretrained_model(CHECKPOINT_PATH)\n",
    "model_path = inference.folder_path\n",
    "model.summary(expand_nested=True)\n",
    "\n",
    "# define preprocessed data path\n",
    "preprocessing_path = os.path.join(model_path, 'preprocessing')\n",
    "\n",
    "# load preprocessed csv files (train and test datasets)\n",
    "file_loc = os.path.join(preprocessing_path, 'X_train.csv') \n",
    "train_X = pd.read_csv(file_loc, encoding = 'utf-8', sep=';', low_memory=False)\n",
    "file_loc = os.path.join(preprocessing_path, 'X_test.csv') \n",
    "test_X = pd.read_csv(file_loc, encoding = 'utf-8', sep=';', low_memory=False)\n",
    "file_loc = os.path.join(preprocessing_path, 'Y_train.csv') \n",
    "train_Y = pd.read_csv(file_loc, encoding = 'utf-8', sep=';', low_memory=False)\n",
    "file_loc = os.path.join(preprocessing_path, 'Y_test.csv') \n",
    "test_Y = pd.read_csv(file_loc, encoding = 'utf-8', sep=';', low_memory=False)\n",
    "\n",
    "# generate tf.datasets\n",
    "preprocessor = PreProcessing()\n",
    "train_dataset, test_dataset = preprocessor.create_tf_dataset(train_X, test_X,\n",
    "                                                             train_Y, test_Y,\n",
    "                                                             parameters['sequence_length'],\n",
    "                                                             cnf.BATCH_SIZE)\n",
    "\n",
    "# load encoders and normalizers\n",
    "filepath = os.path.join(preprocessing_path, 'pressure_normalizer.pkl')\n",
    "with open(filepath, 'rb') as file:\n",
    "    press_normalizer = pickle.load(file)\n",
    "filepath = os.path.join(preprocessing_path, 'uptake_normalizer.pkl')\n",
    "with open(filepath, 'rb') as file:\n",
    "    uptake_normalizer = pickle.load(file)"
   ]
  },
  {
   "cell_type": "markdown",
   "metadata": {},
   "source": [
    "# Model evaluation"
   ]
  },
  {
   "cell_type": "markdown",
   "metadata": {},
   "source": [
    "### Evaluation of loss and metrics"
   ]
  },
  {
   "cell_type": "code",
   "execution_count": null,
   "metadata": {},
   "outputs": [],
   "source": [
    "# initialize custom classes\n",
    "validator = ModelValidation(model)\n",
    "\n",
    "# create subfolder for evaluation data\n",
    "eval_path = os.path.join(model_path, 'evaluation') \n",
    "os.mkdir(eval_path) if not os.path.exists(eval_path) else None\n",
    "\n",
    "# evaluate model performance on train and test datasets\n",
    "train_eval = model.evaluate(x=train_inputs, y=train_uptakes, batch_size=512, verbose=1)\n",
    "test_eval = model.evaluate(x=test_inputs, y=test_uptakes, batch_size=512, verbose=1)\n",
    "\n",
    "print(f'''\n",
    "-------------------------------------------------------------------------------\n",
    "MODEL EVALUATION\n",
    "-------------------------------------------------------------------------------    \n",
    "Train dataset:\n",
    "- Loss:   {train_eval[0]}\n",
    "- Metric: {train_eval[1]} \n",
    "\n",
    "Test dataset:\n",
    "- Loss:   {test_eval[0]}\n",
    "- Metric: {test_eval[1]}        \n",
    "''')"
   ]
  },
  {
   "cell_type": "markdown",
   "metadata": {},
   "source": [
    "### Visual inspection"
   ]
  },
  {
   "cell_type": "code",
   "execution_count": null,
   "metadata": {},
   "outputs": [],
   "source": [
    "# predict adsorption from train and test datasets input\n",
    "train_predictions = model.predict(train_inputs)\n",
    "test_predictions = model.predict(test_inputs)\n",
    "\n",
    "# remove padding and normalization from the original train and test pressure series,\n",
    "# as well from the original train and test uptake series and the predicted values\n",
    "rec_train_P, rec_train_Q, pred_train_Q = inference.sequence_recovery(train_pressures,                                                                     \n",
    "                                                                     train_uptakes,\n",
    "                                                                     train_predictions,\n",
    "                                                                     parameters['padding_value'],\n",
    "                                                                     press_normalizer,\n",
    "                                                                     uptake_normalizer)  \n",
    "\n",
    "rec_test_P, rec_test_Q, pred_test_Q = inference.sequence_recovery(test_pressures,\n",
    "                                                                  test_uptakes,\n",
    "                                                                  test_predictions,                                                                  \n",
    "                                                                  parameters['padding_value'],\n",
    "                                                                  press_normalizer,\n",
    "                                                                  uptake_normalizer)  \n",
    "\n",
    "# perform visual validation by comparing true and predicted isotherms on both \n",
    "# the train and test datasets\n",
    "validator.visualize_predictions(rec_train_P, rec_train_Q, pred_train_Q, 'train', eval_path)\n",
    "validator.visualize_predictions(rec_test_P, rec_test_Q, pred_test_Q, 'test', eval_path)\n"
   ]
  }
 ],
 "metadata": {
  "kernelspec": {
   "display_name": "Aquarius",
   "language": "python",
   "name": "python3"
  },
  "language_info": {
   "codemirror_mode": {
    "name": "ipython",
    "version": 3
   },
   "file_extension": ".py",
   "mimetype": "text/x-python",
   "name": "python",
   "nbconvert_exporter": "python",
   "pygments_lexer": "ipython3",
   "version": "3.10.13"
  }
 },
 "nbformat": 4,
 "nbformat_minor": 2
}
