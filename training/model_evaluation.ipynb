{
 "cells": [
  {
   "cell_type": "code",
   "execution_count": 1,
   "metadata": {},
   "outputs": [],
   "source": [
    "import os\n",
    "import sys\n",
    "import numpy as np\n",
    "import pandas as pd\n",
    "import pickle\n",
    "\n",
    "# set warnings\n",
    "import warnings\n",
    "warnings.simplefilter(action='ignore', category = Warning)\n",
    "\n",
    "# add parent folder path to the namespace\n",
    "sys.path.append(os.path.dirname(os.getcwd()))\n",
    "\n",
    "# import modules and components\n",
    "from utils.inference import Inference\n",
    "from utils.validation import ModelValidation\n",
    "import utils.global_paths as globpt\n",
    "import configurations as cnf\n",
    "\n",
    "# specify relative paths from global paths and create subfolders\n",
    "cp_path = os.path.join(globpt.train_path, 'checkpoints')\n",
    "os.mkdir(cp_path) if not os.path.exists(cp_path) else None"
   ]
  },
  {
   "cell_type": "markdown",
   "metadata": {},
   "source": [
    "# Load data and model"
   ]
  },
  {
   "cell_type": "code",
   "execution_count": null,
   "metadata": {},
   "outputs": [],
   "source": [
    "# load the model for inference and print summary\n",
    "inference = Inference(cnf.seed) \n",
    "model, parameters = inference.load_pretrained_model(cp_path)\n",
    "model_path = inference.folder_path\n",
    "model.summary(expand_nested=True)\n",
    "\n",
    "# load preprocessed data\n",
    "pp_path = os.path.join(model_path, 'preprocessing')\n",
    "\n",
    "# load train data\n",
    "train_parameters = np.load(os.path.join(pp_path, 'train_parameters.npy'))\n",
    "train_hosts = np.load(os.path.join(pp_path, 'train_hosts.npy'))\n",
    "train_guests = np.load(os.path.join(pp_path, 'train_guests.npy'))\n",
    "train_pressures = np.load(os.path.join(pp_path, 'train_pressures.npy'))\n",
    "train_uptakes = np.load(os.path.join(pp_path, 'train_uptakes.npy'))\n",
    "\n",
    "# load test data\n",
    "test_parameters = np.load(os.path.join(pp_path, 'test_parameters.npy'))\n",
    "test_hosts = np.load(os.path.join(pp_path, 'test_hosts.npy'))\n",
    "test_guests = np.load(os.path.join(pp_path, 'test_guests.npy'))\n",
    "test_pressures = np.load(os.path.join(pp_path, 'test_pressures.npy'))\n",
    "test_uptakes = np.load(os.path.join(pp_path, 'test_uptakes.npy'))\n",
    "\n",
    "# create list of inputs for both train and test datasets\n",
    "train_inputs = [train_parameters, train_hosts, train_guests, train_pressures] \n",
    "test_inputs = [test_parameters, test_hosts, test_guests, test_pressures] \n",
    "validation_data = (test_inputs, test_uptakes) \n",
    "\n",
    "# load encoders and normalizers\n",
    "filepath = os.path.join(pp_path, 'pressure_normalizer.pkl')\n",
    "with open(filepath, 'rb') as file:\n",
    "    press_normalizer = pickle.load(file)\n",
    "filepath = os.path.join(pp_path, 'uptake_normalizer.pkl')\n",
    "with open(filepath, 'rb') as file:\n",
    "    uptake_normalizer = pickle.load(file)\n"
   ]
  },
  {
   "cell_type": "markdown",
   "metadata": {},
   "source": [
    "# Model evaluation"
   ]
  },
  {
   "cell_type": "markdown",
   "metadata": {},
   "source": [
    "### Evaluation of loss and metrics"
   ]
  },
  {
   "cell_type": "code",
   "execution_count": null,
   "metadata": {},
   "outputs": [],
   "source": [
    "# initialize custom classes\n",
    "validator = ModelValidation(model)\n",
    "\n",
    "# create subfolder for evaluation data\n",
    "eval_path = os.path.join(model_path, 'evaluation') \n",
    "os.mkdir(eval_path) if not os.path.exists(eval_path) else None\n",
    "\n",
    "# evaluate model performance on train and test datasets\n",
    "train_eval = model.evaluate(x=train_inputs, y=train_uptakes, batch_size=512, verbose=1)\n",
    "test_eval = model.evaluate(x=test_inputs, y=test_uptakes, batch_size=512, verbose=1)\n",
    "\n",
    "print(f'''\n",
    "-------------------------------------------------------------------------------\n",
    "MODEL EVALUATION\n",
    "-------------------------------------------------------------------------------    \n",
    "Train dataset:\n",
    "- Loss:   {train_eval[0]}\n",
    "- Metric: {train_eval[1]} \n",
    "\n",
    "Test dataset:\n",
    "- Loss:   {test_eval[0]}\n",
    "- Metric: {test_eval[1]}        \n",
    "''')"
   ]
  },
  {
   "cell_type": "markdown",
   "metadata": {},
   "source": [
    "### Visual inspection"
   ]
  },
  {
   "cell_type": "code",
   "execution_count": null,
   "metadata": {},
   "outputs": [],
   "source": [
    "# predict adsorption from train and test datasets input\n",
    "train_predictions = model.predict(train_inputs)\n",
    "test_predictions = model.predict(test_inputs)\n",
    "\n",
    "# remove padding and normalization from the original train and test pressure series,\n",
    "# as well from the original train and test uptake series and the predicted values\n",
    "rec_train_P, rec_train_Q, pred_train_Q = inference.sequence_recovery(train_pressures,                                                                     \n",
    "                                                                     train_uptakes,\n",
    "                                                                     train_predictions,\n",
    "                                                                     parameters['padding_value'],\n",
    "                                                                     press_normalizer,\n",
    "                                                                     uptake_normalizer)  \n",
    "\n",
    "rec_test_P, rec_test_Q, pred_test_Q = inference.sequence_recovery(test_pressures,\n",
    "                                                                  test_uptakes,\n",
    "                                                                  test_predictions,                                                                  \n",
    "                                                                  parameters['padding_value'],\n",
    "                                                                  press_normalizer,\n",
    "                                                                  uptake_normalizer)  \n",
    "\n",
    "# perform visual validation by comparing true and predicted isotherms on both \n",
    "# the train and test datasets\n",
    "validator.visualize_predictions(rec_train_P, rec_train_Q, pred_train_Q, 'train', eval_path)\n",
    "validator.visualize_predictions(rec_test_P, rec_test_Q, pred_test_Q, 'test', eval_path)\n"
   ]
  }
 ],
 "metadata": {
  "kernelspec": {
   "display_name": "Aquarius",
   "language": "python",
   "name": "python3"
  },
  "language_info": {
   "codemirror_mode": {
    "name": "ipython",
    "version": 3
   },
   "file_extension": ".py",
   "mimetype": "text/x-python",
   "name": "python",
   "nbconvert_exporter": "python",
   "pygments_lexer": "ipython3",
   "version": "3.10.13"
  }
 },
 "nbformat": 4,
 "nbformat_minor": 2
}
