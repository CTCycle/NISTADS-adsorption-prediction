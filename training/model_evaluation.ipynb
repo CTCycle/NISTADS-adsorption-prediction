{
 "cells": [
  {
   "cell_type": "code",
   "execution_count": 1,
   "metadata": {},
   "outputs": [],
   "source": [
    "import os\n",
    "import sys\n",
    "import numpy as np\n",
    "import pandas as pd\n",
    "import pickle\n",
    "\n",
    "# set warnings\n",
    "import warnings\n",
    "warnings.simplefilter(action='ignore', category = Warning)\n",
    "\n",
    "# add parent folder path to the namespace\n",
    "sys.path.append(os.path.dirname(os.getcwd()))\n",
    "\n",
    "# import modules and components\n",
    "from utils.preprocessing import PreProcessing\n",
    "from utils.inference import Inference\n",
    "from utils.validation import ModelValidation\n",
    "import utils.global_paths as globpt\n",
    "import configurations as cnf\n",
    "\n",
    "# specify relative paths from global paths and create subfolders\n",
    "cp_path = os.path.join(globpt.train_path, 'checkpoints')\n",
    "os.mkdir(cp_path) if not os.path.exists(cp_path) else None"
   ]
  },
  {
   "cell_type": "markdown",
   "metadata": {},
   "source": [
    "# Load data and model"
   ]
  },
  {
   "cell_type": "code",
   "execution_count": 2,
   "metadata": {},
   "outputs": [
    {
     "name": "stdout",
     "output_type": "stream",
     "text": [
      "Please select a pretrained model:\n",
      "\n",
      "1 - SCADS_20240329H1846\n",
      "2 - SCADS_20240329H1848\n",
      "\n",
      "\n"
     ]
    },
    {
     "ename": "ValueError",
     "evalue": "Unable to restore custom object of type _tf_keras_metric. Please make sure that any custom layers are included in the `custom_objects` arg when calling `load_model()` and make sure that all layers implement `get_config` and `from_config`.",
     "output_type": "error",
     "traceback": [
      "\u001b[1;31m---------------------------------------------------------------------------\u001b[0m",
      "\u001b[1;31mValueError\u001b[0m                                Traceback (most recent call last)",
      "Cell \u001b[1;32mIn[2], line 3\u001b[0m\n\u001b[0;32m      1\u001b[0m \u001b[38;5;66;03m# load the model for inference and print summary\u001b[39;00m\n\u001b[0;32m      2\u001b[0m inference \u001b[38;5;241m=\u001b[39m Inference(cnf\u001b[38;5;241m.\u001b[39mseed) \n\u001b[1;32m----> 3\u001b[0m model, parameters \u001b[38;5;241m=\u001b[39m \u001b[43minference\u001b[49m\u001b[38;5;241;43m.\u001b[39;49m\u001b[43mload_pretrained_model\u001b[49m\u001b[43m(\u001b[49m\u001b[43mcp_path\u001b[49m\u001b[43m)\u001b[49m\n\u001b[0;32m      4\u001b[0m model_path \u001b[38;5;241m=\u001b[39m inference\u001b[38;5;241m.\u001b[39mfolder_path\n\u001b[0;32m      5\u001b[0m model\u001b[38;5;241m.\u001b[39msummary(expand_nested\u001b[38;5;241m=\u001b[39m\u001b[38;5;28;01mTrue\u001b[39;00m)\n",
      "File \u001b[1;32mc:\\Users\\Thomas V\\Libreria personale\\AI project 280324\\Projects\\Modeling\\NISTADS modeling\\utils\\inference.py:69\u001b[0m, in \u001b[0;36mInference.load_pretrained_model\u001b[1;34m(self, path)\u001b[0m\n\u001b[0;32m     66\u001b[0m     \u001b[38;5;28mself\u001b[39m\u001b[38;5;241m.\u001b[39mfolder_path \u001b[38;5;241m=\u001b[39m os\u001b[38;5;241m.\u001b[39mpath\u001b[38;5;241m.\u001b[39mjoin(path, model_folders[\u001b[38;5;241m0\u001b[39m])                 \n\u001b[0;32m     68\u001b[0m \u001b[38;5;28mself\u001b[39m\u001b[38;5;241m.\u001b[39mmodel_path \u001b[38;5;241m=\u001b[39m os\u001b[38;5;241m.\u001b[39mpath\u001b[38;5;241m.\u001b[39mjoin(\u001b[38;5;28mself\u001b[39m\u001b[38;5;241m.\u001b[39mfolder_path, \u001b[38;5;124m'\u001b[39m\u001b[38;5;124mmodel\u001b[39m\u001b[38;5;124m'\u001b[39m) \n\u001b[1;32m---> 69\u001b[0m model \u001b[38;5;241m=\u001b[39m \u001b[43mtf\u001b[49m\u001b[38;5;241;43m.\u001b[39;49m\u001b[43mkeras\u001b[49m\u001b[38;5;241;43m.\u001b[39;49m\u001b[43mmodels\u001b[49m\u001b[38;5;241;43m.\u001b[39;49m\u001b[43mload_model\u001b[49m\u001b[43m(\u001b[49m\u001b[38;5;28;43mself\u001b[39;49m\u001b[38;5;241;43m.\u001b[39;49m\u001b[43mmodel_path\u001b[49m\u001b[43m)\u001b[49m\n\u001b[0;32m     70\u001b[0m path \u001b[38;5;241m=\u001b[39m os\u001b[38;5;241m.\u001b[39mpath\u001b[38;5;241m.\u001b[39mjoin(\u001b[38;5;28mself\u001b[39m\u001b[38;5;241m.\u001b[39mfolder_path, \u001b[38;5;124m'\u001b[39m\u001b[38;5;124mmodel_parameters.json\u001b[39m\u001b[38;5;124m'\u001b[39m)\n\u001b[0;32m     71\u001b[0m \u001b[38;5;28;01mwith\u001b[39;00m \u001b[38;5;28mopen\u001b[39m(path, \u001b[38;5;124m'\u001b[39m\u001b[38;5;124mr\u001b[39m\u001b[38;5;124m'\u001b[39m) \u001b[38;5;28;01mas\u001b[39;00m f:\n",
      "File \u001b[1;32mc:\\Anaconda\\envs\\Aquarius\\lib\\site-packages\\keras\\utils\\traceback_utils.py:70\u001b[0m, in \u001b[0;36mfilter_traceback.<locals>.error_handler\u001b[1;34m(*args, **kwargs)\u001b[0m\n\u001b[0;32m     67\u001b[0m     filtered_tb \u001b[38;5;241m=\u001b[39m _process_traceback_frames(e\u001b[38;5;241m.\u001b[39m__traceback__)\n\u001b[0;32m     68\u001b[0m     \u001b[38;5;66;03m# To get the full stack trace, call:\u001b[39;00m\n\u001b[0;32m     69\u001b[0m     \u001b[38;5;66;03m# `tf.debugging.disable_traceback_filtering()`\u001b[39;00m\n\u001b[1;32m---> 70\u001b[0m     \u001b[38;5;28;01mraise\u001b[39;00m e\u001b[38;5;241m.\u001b[39mwith_traceback(filtered_tb) \u001b[38;5;28;01mfrom\u001b[39;00m \u001b[38;5;28;01mNone\u001b[39;00m\n\u001b[0;32m     71\u001b[0m \u001b[38;5;28;01mfinally\u001b[39;00m:\n\u001b[0;32m     72\u001b[0m     \u001b[38;5;28;01mdel\u001b[39;00m filtered_tb\n",
      "File \u001b[1;32mc:\\Anaconda\\envs\\Aquarius\\lib\\site-packages\\keras\\saving\\saved_model\\load.py:1137\u001b[0m, in \u001b[0;36mrevive_custom_object\u001b[1;34m(identifier, metadata)\u001b[0m\n\u001b[0;32m   1135\u001b[0m     \u001b[38;5;28;01mreturn\u001b[39;00m revived_cls\u001b[38;5;241m.\u001b[39m_init_from_metadata(metadata)\n\u001b[0;32m   1136\u001b[0m \u001b[38;5;28;01melse\u001b[39;00m:\n\u001b[1;32m-> 1137\u001b[0m     \u001b[38;5;28;01mraise\u001b[39;00m \u001b[38;5;167;01mValueError\u001b[39;00m(\n\u001b[0;32m   1138\u001b[0m         \u001b[38;5;124mf\u001b[39m\u001b[38;5;124m\"\u001b[39m\u001b[38;5;124mUnable to restore custom object of type \u001b[39m\u001b[38;5;132;01m{\u001b[39;00midentifier\u001b[38;5;132;01m}\u001b[39;00m\u001b[38;5;124m. \u001b[39m\u001b[38;5;124m\"\u001b[39m\n\u001b[0;32m   1139\u001b[0m         \u001b[38;5;124mf\u001b[39m\u001b[38;5;124m\"\u001b[39m\u001b[38;5;124mPlease make sure that any custom layers are included in the \u001b[39m\u001b[38;5;124m\"\u001b[39m\n\u001b[0;32m   1140\u001b[0m         \u001b[38;5;124mf\u001b[39m\u001b[38;5;124m\"\u001b[39m\u001b[38;5;124m`custom_objects` arg when calling `load_model()` and make sure \u001b[39m\u001b[38;5;124m\"\u001b[39m\n\u001b[0;32m   1141\u001b[0m         \u001b[38;5;124mf\u001b[39m\u001b[38;5;124m\"\u001b[39m\u001b[38;5;124mthat all layers implement `get_config` and `from_config`.\u001b[39m\u001b[38;5;124m\"\u001b[39m\n\u001b[0;32m   1142\u001b[0m     )\n",
      "\u001b[1;31mValueError\u001b[0m: Unable to restore custom object of type _tf_keras_metric. Please make sure that any custom layers are included in the `custom_objects` arg when calling `load_model()` and make sure that all layers implement `get_config` and `from_config`."
     ]
    }
   ],
   "source": [
    "# load the model for inference and print summary\n",
    "inference = Inference(cnf.seed) \n",
    "model, parameters = inference.load_pretrained_model(cp_path)\n",
    "model_path = inference.folder_path\n",
    "model.summary(expand_nested=True)\n",
    "\n",
    "# load preprocessed data\n",
    "pp_path = os.path.join(model_path, 'preprocessing')\n",
    "\n",
    "# define preprocessed data path\n",
    "preprocessing_path = os.path.join(model_path, 'preprocessing')\n",
    "\n",
    "# load preprocessed csv files (train and test datasets)\n",
    "file_loc = os.path.join(preprocessing_path, 'X_train.csv') \n",
    "train_X = pd.read_csv(file_loc, encoding = 'utf-8', sep=';', low_memory=False)\n",
    "file_loc = os.path.join(preprocessing_path, 'X_test.csv') \n",
    "test_X = pd.read_csv(file_loc, encoding = 'utf-8', sep=';', low_memory=False)\n",
    "file_loc = os.path.join(preprocessing_path, 'Y_train.csv') \n",
    "train_Y = pd.read_csv(file_loc, encoding = 'utf-8', sep=';', low_memory=False)\n",
    "file_loc = os.path.join(preprocessing_path, 'Y_test.csv') \n",
    "test_Y = pd.read_csv(file_loc, encoding = 'utf-8', sep=';', low_memory=False)\n",
    "\n",
    "# generate tf.datasets\n",
    "#------------------------------------------------------------------------------ \n",
    "preprocessor = PreProcessing()\n",
    "train_dataset, test_dataset = preprocessor.create_tf_dataset(train_X, test_X,\n",
    "                                                             train_Y, test_Y,\n",
    "                                                             parameters['pad_length'],\n",
    "                                                             cnf.batch_size)\n",
    "\n",
    "# load encoders and normalizers\n",
    "filepath = os.path.join(pp_path, 'pressure_normalizer.pkl')\n",
    "with open(filepath, 'rb') as file:\n",
    "    press_normalizer = pickle.load(file)\n",
    "filepath = os.path.join(pp_path, 'uptake_normalizer.pkl')\n",
    "with open(filepath, 'rb') as file:\n",
    "    uptake_normalizer = pickle.load(file)"
   ]
  },
  {
   "cell_type": "markdown",
   "metadata": {},
   "source": [
    "# Model evaluation"
   ]
  },
  {
   "cell_type": "markdown",
   "metadata": {},
   "source": [
    "### Evaluation of loss and metrics"
   ]
  },
  {
   "cell_type": "code",
   "execution_count": null,
   "metadata": {},
   "outputs": [],
   "source": [
    "# initialize custom classes\n",
    "validator = ModelValidation(model)\n",
    "\n",
    "# create subfolder for evaluation data\n",
    "eval_path = os.path.join(model_path, 'evaluation') \n",
    "os.mkdir(eval_path) if not os.path.exists(eval_path) else None\n",
    "\n",
    "# evaluate model performance on train and test datasets\n",
    "train_eval = model.evaluate(x=train_inputs, y=train_uptakes, batch_size=512, verbose=1)\n",
    "test_eval = model.evaluate(x=test_inputs, y=test_uptakes, batch_size=512, verbose=1)\n",
    "\n",
    "print(f'''\n",
    "-------------------------------------------------------------------------------\n",
    "MODEL EVALUATION\n",
    "-------------------------------------------------------------------------------    \n",
    "Train dataset:\n",
    "- Loss:   {train_eval[0]}\n",
    "- Metric: {train_eval[1]} \n",
    "\n",
    "Test dataset:\n",
    "- Loss:   {test_eval[0]}\n",
    "- Metric: {test_eval[1]}        \n",
    "''')"
   ]
  },
  {
   "cell_type": "markdown",
   "metadata": {},
   "source": [
    "### Visual inspection"
   ]
  },
  {
   "cell_type": "code",
   "execution_count": null,
   "metadata": {},
   "outputs": [],
   "source": [
    "# predict adsorption from train and test datasets input\n",
    "train_predictions = model.predict(train_inputs)\n",
    "test_predictions = model.predict(test_inputs)\n",
    "\n",
    "# remove padding and normalization from the original train and test pressure series,\n",
    "# as well from the original train and test uptake series and the predicted values\n",
    "rec_train_P, rec_train_Q, pred_train_Q = inference.sequence_recovery(train_pressures,                                                                     \n",
    "                                                                     train_uptakes,\n",
    "                                                                     train_predictions,\n",
    "                                                                     parameters['padding_value'],\n",
    "                                                                     press_normalizer,\n",
    "                                                                     uptake_normalizer)  \n",
    "\n",
    "rec_test_P, rec_test_Q, pred_test_Q = inference.sequence_recovery(test_pressures,\n",
    "                                                                  test_uptakes,\n",
    "                                                                  test_predictions,                                                                  \n",
    "                                                                  parameters['padding_value'],\n",
    "                                                                  press_normalizer,\n",
    "                                                                  uptake_normalizer)  \n",
    "\n",
    "# perform visual validation by comparing true and predicted isotherms on both \n",
    "# the train and test datasets\n",
    "validator.visualize_predictions(rec_train_P, rec_train_Q, pred_train_Q, 'train', eval_path)\n",
    "validator.visualize_predictions(rec_test_P, rec_test_Q, pred_test_Q, 'test', eval_path)\n"
   ]
  }
 ],
 "metadata": {
  "kernelspec": {
   "display_name": "Aquarius",
   "language": "python",
   "name": "python3"
  },
  "language_info": {
   "codemirror_mode": {
    "name": "ipython",
    "version": 3
   },
   "file_extension": ".py",
   "mimetype": "text/x-python",
   "name": "python",
   "nbconvert_exporter": "python",
   "pygments_lexer": "ipython3",
   "version": "3.10.13"
  }
 },
 "nbformat": 4,
 "nbformat_minor": 2
}
